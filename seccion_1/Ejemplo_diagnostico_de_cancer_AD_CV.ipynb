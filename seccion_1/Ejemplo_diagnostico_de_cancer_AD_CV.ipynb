{
 "cells": [
  {
   "cell_type": "markdown",
   "id": "2284fc54",
   "metadata": {},
   "source": [
    "# Random Forest con Validación Cruzada K-Fold para Diagnóstico de Cáncer de Mama\n",
    "\n",
    "**Disciplina:** Aprendizaje Supervisado, Clasificación, Ensambles de Modelos, Random Forest, Validación Cruzada\n",
    "\n",
    "**Objetivo:**\n",
    "El objetivo de este notebook es construir, entrenar y evaluar un modelo de ensamble de árboles de decisión (Random Forest) para predecir si un tumor de mama es maligno o benigno, utilizando el dataset \"Breast Cancer Wisconsin\". La evaluación del modelo se realizará mediante validación cruzada K-Fold estratificada para obtener una estimación más robusta de su rendimiento. Se visualizará la importancia de las características de un modelo final entrenado con todos los datos."
   ]
  },
  {
   "cell_type": "markdown",
   "id": "a179768f",
   "metadata": {},
   "source": [
    "## 1. Carga de Librerías y Configuración Inicial\n",
    "\n",
    "**Propósito de esta sección:**\n",
    "Importar todas las bibliotecas necesarias y configurar el entorno para el análisis.\n",
    "\n",
    "**Bibliotecas Clave:**\n",
    "* **`numpy`, `pandas`**: Para manipulación de datos.\n",
    "* **`matplotlib.pyplot`, `seaborn`**: Para visualizaciones.\n",
    "* **`sklearn.datasets`**: Para cargar el dataset \"Breast Cancer\".\n",
    "* **`sklearn.model_selection`**: Para `StratifiedKFold`.\n",
    "* **`sklearn.ensemble`**: Para `RandomForestClassifier`.\n",
    "* **`sklearn.metrics`**: Para métricas de evaluación.\n",
    "* **`collections.defaultdict`**: Para almacenar métricas de los folds."
   ]
  },
  {
   "cell_type": "code",
   "execution_count": 1,
   "id": "9b9cf2b6",
   "metadata": {},
   "outputs": [],
   "source": [
    "# Comandos mágicos de IPython (opcional en scripts)\n",
    "%load_ext autoreload\n",
    "%autoreload 2\n",
    "%matplotlib inline"
   ]
  },
  {
   "cell_type": "code",
   "execution_count": 2,
   "id": "434484df",
   "metadata": {
    "lines_to_next_cell": 1
   },
   "outputs": [],
   "source": [
    "# Importación de bibliotecas\n",
    "import numpy as np\n",
    "import pandas as pd\n",
    "import matplotlib.pyplot as plt\n",
    "import seaborn as sns\n",
    "from collections import defaultdict\n",
    "\n",
    "from sklearn.datasets import load_breast_cancer\n",
    "from sklearn.model_selection import StratifiedKFold\n",
    "from sklearn.ensemble import RandomForestClassifier\n",
    "from sklearn.metrics import accuracy_score, classification_report, confusion_matrix, f1_score, precision_score, recall_score\n",
    "\n",
    "# Configuración de estilo y visualización\n",
    "sns.set(style=\"whitegrid\")\n",
    "plt.rcParams['figure.figsize'] = [12, 7]\n",
    "plt.rcParams['figure.dpi'] = 100\n",
    "plt.rcParams['font.size'] = 10"
   ]
  },
  {
   "cell_type": "markdown",
   "id": "8967e77d",
   "metadata": {},
   "source": [
    "## 2. Funciones Personalizadas"
   ]
  },
  {
   "cell_type": "markdown",
   "id": "b57f4406",
   "metadata": {
    "lines_to_next_cell": 0
   },
   "source": [
    "### Descripción de la Función: `cargar_datos_cancer`\n",
    "(Misma función que en el ejemplo `05_random_forest_diagnostico_cancer.py`)"
   ]
  },
  {
   "cell_type": "code",
   "execution_count": 3,
   "id": "86e498b4",
   "metadata": {
    "lines_to_next_cell": 1
   },
   "outputs": [],
   "source": [
    "def cargar_datos_cancer():\n",
    "    print(\"Cargando el dataset de Cáncer de Mama Wisconsin...\")\n",
    "    cancer_data = load_breast_cancer()\n",
    "    df = pd.DataFrame(data=cancer_data.data, columns=cancer_data.feature_names)\n",
    "    df['target'] = cancer_data.target\n",
    "    target_names_list = list(cancer_data.target_names)\n",
    "    df['diagnosis'] = df['target'].map({i: name for i, name in enumerate(target_names_list)})\n",
    "\n",
    "    print(\"\\nDimensiones del dataset:\", df.shape)\n",
    "    print(\"\\nPrimeras filas del dataset:\")\n",
    "    print(df.head(3))\n",
    "    # print(\"\\nEstadísticas descriptivas de las características:\")\n",
    "    # print(df.drop(columns=['target', 'diagnosis']).describe().T)\n",
    "    print(\"\\nDistribución de la variable objetivo ('diagnosis'):\")\n",
    "    print(df['diagnosis'].value_counts(normalize=True))\n",
    "    return df, cancer_data.feature_names, target_names_list"
   ]
  },
  {
   "cell_type": "markdown",
   "id": "b8ce82ac",
   "metadata": {},
   "source": [
    "### Descripción de la Función: `evaluar_con_kfold_rf`\n",
    "\n",
    "**Objetivo Principal:**\n",
    "Evaluar un modelo Random Forest utilizando validación cruzada K-Fold estratificada.\n",
    "\n",
    "**Características:**\n",
    "* **Entrada:**\n",
    "    * `X` (pd.DataFrame o np.ndarray): Características.\n",
    "    * `y` (pd.Series o np.ndarray): Variable objetivo.\n",
    "    * `n_splits` (int): Número de folds para la validación cruzada.\n",
    "    * `n_estimators_val` (int): Número de árboles en el Random Forest.\n",
    "    * `seed` (int): Semilla aleatoria para reproducibilidad.\n",
    "    * `class_names` (list): Nombres de las clases para el reporte.\n",
    "* **Procesamiento:**\n",
    "    1. Inicializa `StratifiedKFold`.\n",
    "    2. Itera a través de cada fold:\n",
    "        a. Divide los datos en entrenamiento y prueba para el fold actual.\n",
    "        b. Crea una nueva instancia de `RandomForestClassifier`.\n",
    "        c. Entrena el clasificador en los datos de entrenamiento del fold.\n",
    "        d. Realiza predicciones en los datos de prueba del fold.\n",
    "        e. Calcula y almacena métricas (precisión, F1, recall, precisión).\n",
    "        f. (Opcional) Muestra la matriz de confusión para cada fold.\n",
    "    3. Calcula y muestra el promedio y la desviación estándar de las métricas recolectadas.\n",
    "* **Valor de Retorno:**\n",
    "    * `collected_metrics` (dict): Diccionario con las listas de métricas de cada fold.\n",
    "    * `mean_metrics` (dict): Diccionario con las métricas promedio."
   ]
  },
  {
   "cell_type": "code",
   "execution_count": 4,
   "id": "a16c6faa",
   "metadata": {
    "lines_to_next_cell": 1
   },
   "outputs": [],
   "source": [
    "def evaluar_con_kfold_rf(X, y, n_splits=5, n_estimators_val=100, seed=42, class_names=None):\n",
    "    \"\"\"\n",
    "    Evalúa un Random Forest usando validación cruzada K-Fold estratificada.\n",
    "    \"\"\"\n",
    "    print(f\"\\nEvaluando Random Forest con {n_splits}-Fold Cross-Validation (n_estimators={n_estimators_val})...\")\n",
    "\n",
    "    skf = StratifiedKFold(n_splits=n_splits, shuffle=True, random_state=seed)\n",
    "    \n",
    "    # Usar defaultdict para facilitar la recolección de métricas\n",
    "    collected_metrics = defaultdict(list)\n",
    "    \n",
    "    fold_num = 1\n",
    "    for train_index, test_index in skf.split(X, y):\n",
    "        print(f\"\\n--- Fold {fold_num}/{n_splits} ---\")\n",
    "        X_train_fold, X_test_fold = X.iloc[train_index], X.iloc[test_index]\n",
    "        y_train_fold, y_test_fold = y.iloc[train_index], y.iloc[test_index]\n",
    "\n",
    "        model_rf_fold = RandomForestClassifier(n_estimators=n_estimators_val, random_state=seed + fold_num, oob_score=False) # OOB no es tan relevante por fold\n",
    "        model_rf_fold.fit(X_train_fold, y_train_fold)\n",
    "        \n",
    "        y_pred_fold = model_rf_fold.predict(X_test_fold)\n",
    "        \n",
    "        # Calcular métricas para este fold\n",
    "        accuracy = accuracy_score(y_test_fold, y_pred_fold)\n",
    "        f1 = f1_score(y_test_fold, y_pred_fold, average='weighted') # 'weighted' para multiclase o desbalance\n",
    "        precision = precision_score(y_test_fold, y_pred_fold, average='weighted')\n",
    "        recall = recall_score(y_test_fold, y_pred_fold, average='weighted')\n",
    "        \n",
    "        collected_metrics['accuracy'].append(accuracy)\n",
    "        collected_metrics['f1_score'].append(f1)\n",
    "        collected_metrics['precision'].append(precision)\n",
    "        collected_metrics['recall'].append(recall)\n",
    "        \n",
    "        print(f\"  Precisión del Fold: {accuracy:.4f}\")\n",
    "        print(f\"  F1-Score (ponderado) del Fold: {f1:.4f}\")\n",
    "        # print(classification_report(y_test_fold, y_pred_fold, target_names=class_names, zero_division=0))\n",
    "        \n",
    "        # Matriz de confusión para el fold actual (opcional mostrar todas)\n",
    "        # cm_fold = confusion_matrix(y_test_fold, y_pred_fold)\n",
    "        # plt.figure(figsize=(5,3))\n",
    "        # sns.heatmap(cm_fold, annot=True, fmt='d', cmap='Blues', xticklabels=class_names, yticklabels=class_names)\n",
    "        # plt.title(f'Matriz de Confusión - Fold {fold_num}')\n",
    "        # plt.xlabel('Predicción'); plt.ylabel('Real')\n",
    "        # plt.show()\n",
    "        \n",
    "        fold_num += 1\n",
    "        \n",
    "    # Calcular métricas promedio\n",
    "    mean_metrics = {metric: np.mean(values) for metric, values in collected_metrics.items()}\n",
    "    std_metrics = {metric: np.std(values) for metric, values in collected_metrics.items()}\n",
    "    \n",
    "    print(\"\\n--- Resumen de Validación Cruzada K-Fold ---\")\n",
    "    for metric_name in mean_metrics:\n",
    "        print(f\"  {metric_name.capitalize()} Promedio: {mean_metrics[metric_name]:.4f} (+/- {std_metrics[metric_name]:.4f})\")\n",
    "        \n",
    "    return collected_metrics, mean_metrics"
   ]
  },
  {
   "cell_type": "markdown",
   "id": "1849ea2a",
   "metadata": {
    "lines_to_next_cell": 0
   },
   "source": [
    "### Descripción de la Función: `visualizar_importancia_caracteristicas`\n",
    "(Misma función que en el ejemplo `05_random_forest_diagnostico_cancer.py`)"
   ]
  },
  {
   "cell_type": "code",
   "execution_count": 5,
   "id": "36331ca3",
   "metadata": {
    "lines_to_next_cell": 1
   },
   "outputs": [],
   "source": [
    "def visualizar_importancia_caracteristicas(clf, feature_names, top_n=10):\n",
    "    print(f\"\\nVisualizando las {top_n} características más importantes...\")\n",
    "    importances = clf.feature_importances_\n",
    "    indices = np.argsort(importances)[::-1] \n",
    "    \n",
    "    feature_importance_df = pd.DataFrame({\n",
    "        'feature': feature_names[indices][:top_n],\n",
    "        'importance': importances[indices][:top_n]\n",
    "    })\n",
    "\n",
    "    plt.figure(figsize=(10, min(top_n * 0.5, 12)))\n",
    "    sns.barplot(x='importance', y='feature', data=feature_importance_df, palette='viridis')\n",
    "    plt.title(f'Top {top_n} Características Más Importantes (Random Forest Final)')\n",
    "    plt.xlabel('Importancia Relativa')\n",
    "    plt.ylabel('Característica')\n",
    "    plt.gca().invert_yaxis() \n",
    "    plt.tight_layout()\n",
    "    plt.show()"
   ]
  },
  {
   "cell_type": "markdown",
   "id": "964eed79",
   "metadata": {
    "lines_to_next_cell": 0
   },
   "source": [
    "### Descripción de la Función: `analizar_ejemplo_especifico_rf`\n",
    "(Misma función que en el ejemplo `05_random_forest_diagnostico_cancer.py`, adaptada para tomar el modelo final)"
   ]
  },
  {
   "cell_type": "code",
   "execution_count": 6,
   "id": "a8650cc9",
   "metadata": {},
   "outputs": [],
   "source": [
    "def analizar_ejemplo_especifico_rf(clf_final, ejemplo_dict, feature_names_original_order, class_names_list, clase_real_ejemplo_idx=None):\n",
    "    print(\"\\nAnalizando un ejemplo específico con Random Forest Final...\")\n",
    "    ejemplo_df = pd.DataFrame([ejemplo_dict], columns=feature_names_original_order)\n",
    "    predicted_class_index = clf_final.predict(ejemplo_df)[0]\n",
    "    predicted_probability = clf_final.predict_proba(ejemplo_df)[0]\n",
    "    species_name_predicted = class_names_list[predicted_class_index]\n",
    "\n",
    "    print(\"\\nCaracterísticas de la muestra:\")\n",
    "    for feature, value in ejemplo_dict.items():\n",
    "        print(f\"- {feature}: {value}\")\n",
    "\n",
    "    if clase_real_ejemplo_idx is not None:\n",
    "        species_name_real = class_names_list[clase_real_ejemplo_idx]\n",
    "        print(f\"\\nDiagnóstico Real: {species_name_real} (Clase {clase_real_ejemplo_idx})\")\n",
    "    print(f\"Diagnóstico Predicho por Random Forest: {species_name_predicted} (Clase {predicted_class_index})\")\n",
    "    print(\"\\nProbabilidades de predicción (Random Forest):\")\n",
    "    for i, prob in enumerate(predicted_probability):\n",
    "        print(f\"- {class_names_list[i]}: {prob:.4f}\")"
   ]
  },
  {
   "cell_type": "markdown",
   "id": "f351ce7d",
   "metadata": {},
   "source": [
    "## 3. Desarrollo del Ejercicio: Random Forest con K-Fold CV"
   ]
  },
  {
   "cell_type": "markdown",
   "id": "7403aa3a",
   "metadata": {},
   "source": [
    "### 3.1. Carga y Preparación de Datos\n",
    "\n",
    "**Objetivo:** Cargar el dataset \"Breast Cancer\" y prepararlo para el modelado."
   ]
  },
  {
   "cell_type": "code",
   "execution_count": 7,
   "id": "76ab5874",
   "metadata": {},
   "outputs": [
    {
     "name": "stdout",
     "output_type": "stream",
     "text": [
      "Cargando el dataset de Cáncer de Mama Wisconsin...\n",
      "\n",
      "Dimensiones del dataset: (569, 32)\n",
      "\n",
      "Primeras filas del dataset:\n",
      "   mean radius  mean texture  mean perimeter  mean area  mean smoothness  \\\n",
      "0        17.99         10.38           122.8     1001.0          0.11840   \n",
      "1        20.57         17.77           132.9     1326.0          0.08474   \n",
      "2        19.69         21.25           130.0     1203.0          0.10960   \n",
      "\n",
      "   mean compactness  mean concavity  mean concave points  mean symmetry  \\\n",
      "0           0.27760          0.3001              0.14710         0.2419   \n",
      "1           0.07864          0.0869              0.07017         0.1812   \n",
      "2           0.15990          0.1974              0.12790         0.2069   \n",
      "\n",
      "   mean fractal dimension  ...  worst perimeter  worst area  worst smoothness  \\\n",
      "0                 0.07871  ...            184.6      2019.0            0.1622   \n",
      "1                 0.05667  ...            158.8      1956.0            0.1238   \n",
      "2                 0.05999  ...            152.5      1709.0            0.1444   \n",
      "\n",
      "   worst compactness  worst concavity  worst concave points  worst symmetry  \\\n",
      "0             0.6656           0.7119                0.2654          0.4601   \n",
      "1             0.1866           0.2416                0.1860          0.2750   \n",
      "2             0.4245           0.4504                0.2430          0.3613   \n",
      "\n",
      "   worst fractal dimension  target  diagnosis  \n",
      "0                  0.11890       0  malignant  \n",
      "1                  0.08902       0  malignant  \n",
      "2                  0.08758       0  malignant  \n",
      "\n",
      "[3 rows x 32 columns]\n",
      "\n",
      "Distribución de la variable objetivo ('diagnosis'):\n",
      "diagnosis\n",
      "benign       0.627417\n",
      "malignant    0.372583\n",
      "Name: proportion, dtype: float64\n",
      "\n",
      "Forma de X: (569, 30), y: (569,)\n"
     ]
    }
   ],
   "source": [
    "# Cargar los datos\n",
    "df_cancer, cancer_feature_names, cancer_target_names = cargar_datos_cancer()\n",
    "\n",
    "# Preparar X e y\n",
    "X = df_cancer[cancer_feature_names]\n",
    "y = df_cancer['target'] # Usar la columna 'target' numérica para scikit-learn\n",
    "\n",
    "print(f\"\\nForma de X: {X.shape}, y: {y.shape}\")"
   ]
  },
  {
   "cell_type": "markdown",
   "id": "a17cc0d6",
   "metadata": {},
   "source": [
    "### 3.2. Evaluación del Random Forest con Validación Cruzada K-Fold\n",
    "\n",
    "**Objetivo:**\n",
    "Evaluar el rendimiento del modelo Random Forest utilizando `StratifiedKFold` para obtener una estimación robusta de su generalización."
   ]
  },
  {
   "cell_type": "code",
   "execution_count": 8,
   "id": "9a16533e",
   "metadata": {},
   "outputs": [
    {
     "name": "stdout",
     "output_type": "stream",
     "text": [
      "\n",
      "Evaluando Random Forest con 5-Fold Cross-Validation (n_estimators=100)...\n",
      "\n",
      "--- Fold 1/5 ---\n",
      "  Precisión del Fold: 0.9649\n",
      "  F1-Score (ponderado) del Fold: 0.9651\n",
      "\n",
      "--- Fold 2/5 ---\n",
      "  Precisión del Fold: 0.9123\n",
      "  F1-Score (ponderado) del Fold: 0.9108\n",
      "\n",
      "--- Fold 3/5 ---\n",
      "  Precisión del Fold: 0.9649\n",
      "  F1-Score (ponderado) del Fold: 0.9647\n",
      "\n",
      "--- Fold 4/5 ---\n",
      "  Precisión del Fold: 0.9561\n",
      "  F1-Score (ponderado) del Fold: 0.9566\n",
      "\n",
      "--- Fold 5/5 ---\n",
      "  Precisión del Fold: 0.9646\n",
      "  F1-Score (ponderado) del Fold: 0.9644\n",
      "\n",
      "--- Resumen de Validación Cruzada K-Fold ---\n",
      "  Accuracy Promedio: 0.9526 (+/- 0.0204)\n",
      "  F1_score Promedio: 0.9523 (+/- 0.0210)\n",
      "  Precision Promedio: 0.9543 (+/- 0.0198)\n",
      "  Recall Promedio: 0.9526 (+/- 0.0204)\n",
      "\n",
      "Métricas Promedio Detalladas de K-Fold:\n",
      "  - Accuracy: 0.9526\n",
      "  - F1 score: 0.9523\n",
      "  - Precision: 0.9543\n",
      "  - Recall: 0.9526\n"
     ]
    }
   ],
   "source": [
    "# Parámetros para la evaluación\n",
    "n_folds = 5\n",
    "n_arboles = 100 # Número de estimadores en el Random Forest\n",
    "semilla_aleatoria = 42\n",
    "\n",
    "# Evaluar el modelo\n",
    "metricas_kfold, metricas_promedio_kfold = evaluar_con_kfold_rf(\n",
    "    X, y, \n",
    "    n_splits=n_folds, \n",
    "    n_estimators_val=n_arboles, \n",
    "    seed=semilla_aleatoria,\n",
    "    class_names=cancer_target_names\n",
    ")\n",
    "\n",
    "print(\"\\nMétricas Promedio Detalladas de K-Fold:\")\n",
    "for metric, value in metricas_promedio_kfold.items():\n",
    "    print(f\"  - {metric.replace('_', ' ').capitalize()}: {value:.4f}\")"
   ]
  },
  {
   "cell_type": "markdown",
   "id": "23783583",
   "metadata": {},
   "source": [
    "### 3.3. Entrenamiento del Modelo Final e Importancia de Características\n",
    "\n",
    "**Objetivo:**\n",
    "Entrenar un modelo Random Forest final utilizando todos los datos (o todos los datos de entrenamiento si se tuviera un conjunto de prueba final separado). Luego, visualizar la importancia de las características de este modelo final.\n",
    "\n",
    "**Nota:** Para este ejemplo, re-entrenaremos el modelo con todos los datos `X` e `y` para obtener el modelo \"final\"."
   ]
  },
  {
   "cell_type": "code",
   "execution_count": 9,
   "id": "e87b5cb5",
   "metadata": {
    "lines_to_next_cell": 2
   },
   "outputs": [
    {
     "name": "stdout",
     "output_type": "stream",
     "text": [
      "\n",
      "Entrenando el modelo Random Forest final con todos los datos...\n",
      "OOB Score del modelo final (entrenado con todos los datos): 0.9613\n",
      "\n",
      "Visualizando las 15 características más importantes...\n"
     ]
    },
    {
     "name": "stderr",
     "output_type": "stream",
     "text": [
      "/tmp/ipykernel_4943/2117404235.py:12: FutureWarning: \n",
      "\n",
      "Passing `palette` without assigning `hue` is deprecated and will be removed in v0.14.0. Assign the `y` variable to `hue` and set `legend=False` for the same effect.\n",
      "\n",
      "  sns.barplot(x='importance', y='feature', data=feature_importance_df, palette='viridis')\n"
     ]
    },
    {
     "data": {
      "image/png": "[encoded data removed]",
      "text/plain": [
       "<Figure size 1000x750 with 1 Axes>"
      ]
     },
     "metadata": {},
     "output_type": "display_data"
    }
   ],
   "source": [
    "print(\"\\nEntrenando el modelo Random Forest final con todos los datos...\")\n",
    "modelo_rf_final = RandomForestClassifier(n_estimators=n_arboles, random_state=semilla_aleatoria, oob_score=True)\n",
    "modelo_rf_final.fit(X, y)\n",
    "\n",
    "if hasattr(modelo_rf_final, 'oob_score_') and modelo_rf_final.oob_score_ is not None:\n",
    "    oob_score_str = f\"{modelo_rf_final.oob_score_:.4f}\"\n",
    "else:\n",
    "    oob_score_str = \"N/A\"\n",
    "print(f\"OOB Score del modelo final (entrenado con todos los datos): {oob_score_str}\")\n",
    "\n",
    "# Visualizar la importancia de las características del modelo final\n",
    "if modelo_rf_final:\n",
    "    visualizar_importancia_caracteristicas(modelo_rf_final, cancer_feature_names, top_n=15)\n",
    "else:\n",
    "    print(\"El modelo Random Forest final no fue entrenado.\")"
   ]
  },
  {
   "cell_type": "markdown",
   "id": "674c43bb",
   "metadata": {},
   "source": [
    "### 3.4. Análisis de un Ejemplo Específico con el Modelo Final\n",
    "\n",
    "**Objetivo:**\n",
    "Utilizar el modelo Random Forest final para clasificar una muestra y observar las probabilidades.\n",
    "Tomaremos una muestra del dataset original para este propósito."
   ]
  },
  {
   "cell_type": "code",
   "execution_count": 10,
   "id": "6990f6fc",
   "metadata": {
    "lines_to_next_cell": 2
   },
   "outputs": [
    {
     "name": "stdout",
     "output_type": "stream",
     "text": [
      "\n",
      "--- Ejemplo de Paciente (Muestra #0 del dataset original) ---\n",
      "\n",
      "Analizando un ejemplo específico con Random Forest Final...\n",
      "\n",
      "Características de la muestra:\n",
      "- mean radius: 17.99\n",
      "- mean texture: 10.38\n",
      "- mean perimeter: 122.8\n",
      "- mean area: 1001.0\n",
      "- mean smoothness: 0.1184\n",
      "- mean compactness: 0.2776\n",
      "- mean concavity: 0.3001\n",
      "- mean concave points: 0.1471\n",
      "- mean symmetry: 0.2419\n",
      "- mean fractal dimension: 0.07871\n",
      "- radius error: 1.095\n",
      "- texture error: 0.9053\n",
      "- perimeter error: 8.589\n",
      "- area error: 153.4\n",
      "- smoothness error: 0.006399\n",
      "- compactness error: 0.04904\n",
      "- concavity error: 0.05373\n",
      "- concave points error: 0.01587\n",
      "- symmetry error: 0.03003\n",
      "- fractal dimension error: 0.006193\n",
      "- worst radius: 25.38\n",
      "- worst texture: 17.33\n",
      "- worst perimeter: 184.6\n",
      "- worst area: 2019.0\n",
      "- worst smoothness: 0.1622\n",
      "- worst compactness: 0.6656\n",
      "- worst concavity: 0.7119\n",
      "- worst concave points: 0.2654\n",
      "- worst symmetry: 0.4601\n",
      "- worst fractal dimension: 0.1189\n",
      "\n",
      "Diagnóstico Real: malignant (Clase 0)\n",
      "Diagnóstico Predicho por Random Forest: malignant (Clase 0)\n",
      "\n",
      "Probabilidades de predicción (Random Forest):\n",
      "- malignant: 0.9600\n",
      "- benign: 0.0400\n"
     ]
    }
   ],
   "source": [
    "if modelo_rf_final and not df_cancer.empty:\n",
    "    # Tomar la primera muestra del dataset original como ejemplo\n",
    "    ejemplo_idx_global = 0\n",
    "    ejemplo_paciente_features_dict = X.iloc[ejemplo_idx_global].to_dict()\n",
    "    clase_real_paciente_idx = y.iloc[ejemplo_idx_global]\n",
    "\n",
    "    print(f\"\\n--- Ejemplo de Paciente (Muestra #{ejemplo_idx_global} del dataset original) ---\")\n",
    "    analizar_ejemplo_especifico_rf(\n",
    "        modelo_rf_final,\n",
    "        ejemplo_paciente_features_dict,\n",
    "        cancer_feature_names,\n",
    "        cancer_target_names,\n",
    "        clase_real_ejemplo_idx=clase_real_paciente_idx\n",
    "    )\n",
    "else:\n",
    "    print(\"El modelo Random Forest final no está entrenado o el DataFrame está vacío. No se puede analizar el ejemplo.\")"
   ]
  },
  {
   "cell_type": "markdown",
   "id": "33a79df6",
   "metadata": {},
   "source": [
    "## 4. Conclusiones del Ejercicio\n",
    "\n",
    "**Resumen de Hallazgos:**\n",
    "* Se cargó y exploró el dataset \"Breast Cancer Wisconsin\".\n",
    "* Se evaluó un modelo `RandomForestClassifier` (con **[Número, ej: 100]** árboles) utilizando validación cruzada estratificada de **[Número, ej: 5]** folds.\n",
    "* El rendimiento promedio en la validación cruzada fue:\n",
    "    * Precisión Promedio: **[Completar con Precisión Promedio K-Fold, ej: 0.9631 +/- 0.015]**\n",
    "    * F1-Score Promedio (ponderado): **[Completar con F1 Promedio K-Fold, ej: 0.9630 +/- 0.015]**\n",
    "    * (Mencionar otras métricas promedio si se desea)\n",
    "* Estos resultados de K-Fold proporcionan una estimación más robusta del rendimiento esperado del modelo en datos no vistos en comparación con una única división entrenamiento/prueba.\n",
    "* Se entrenó un modelo Random Forest final utilizando todos los datos, obteniendo un OOB Score de **[Completar con OOB Score del modelo final, ej: 0.9684]**. El OOB score es una buena estimación interna del error de generalización.\n",
    "* La visualización de la importancia de características del modelo final reveló que **[Mencionar algunas características importantes, ej: 'worst concave points', 'mean concave points', 'worst perimeter']** son las más influyentes.\n",
    "* El análisis de un ejemplo específico con el modelo final mostró su capacidad de predicción y las probabilidades asociadas.\n",
    "\n",
    "**Importancia de la Validación Cruzada K-Fold:**\n",
    "* **Estimación de Rendimiento Robusta:** Al promediar el rendimiento sobre múltiples divisiones de datos, K-Fold reduce la varianza de la estimación del rendimiento que podría surgir de una única división entrenamiento/prueba aleatoria.\n",
    "* **Mejor Uso de los Datos:** Cada muestra de datos se utiliza tanto para entrenamiento como para prueba (validación) a lo largo de los folds.\n",
    "* **Detección de Sobreajuste (Indirecta):** Si el rendimiento varía mucho entre folds, podría indicar que el modelo es inestable o que ciertos subconjuntos de datos son particularmente difíciles/fáciles.\n",
    "* **Base para Ajuste de Hiperparámetros:** La validación cruzada es fundamental cuando se realiza búsqueda de hiperparámetros (ej: con `GridSearchCV` o `RandomizedSearchCV`), ya que permite evaluar cada combinación de hiperparámetros de manera más fiable.\n",
    "\n",
    "**Aprendizaje General:**\n",
    "Este ejercicio demostró cómo aplicar validación cruzada K-Fold para obtener una evaluación más fiable del rendimiento de un `RandomForestClassifier`. También se mostró el proceso de entrenar un modelo final (después de la evaluación o ajuste de hiperparámetros) y analizar sus características, como la importancia de las variables. La validación cruzada es una práctica estándar y crucial en el desarrollo de modelos de aprendizaje automático robustos.\n",
    "\n",
    "*(Nota: Los resultados específicos como las métricas promedio, OOB score y características importantes deben actualizarse después de ejecutar completamente el notebook.)*"
   ]
  }
 ],
 "metadata": {
  "jupytext": {
   "cell_metadata_filter": "-all",
   "main_language": "python",
   "notebook_metadata_filter": "-all"
  },
  "kernelspec": {
   "display_name": "MADSI",
   "language": "python",
   "name": "python3"
  },
  "language_info": {
   "codemirror_mode": {
    "name": "ipython",
    "version": 3
   },
   "file_extension": ".py",
   "mimetype": "text/x-python",
   "name": "python",
   "nbconvert_exporter": "python",
   "pygments_lexer": "ipython3",
   "version": "3.11.11"
  }
 },
 "nbformat": 4,
 "nbformat_minor": 5
}
