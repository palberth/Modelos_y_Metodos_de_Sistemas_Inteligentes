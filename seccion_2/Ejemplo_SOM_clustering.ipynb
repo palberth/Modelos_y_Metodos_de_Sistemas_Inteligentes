{
 "cells": [
  {
   "cell_type": "markdown",
   "id": "1e5a3160",
   "metadata": {},
   "source": [
    "# Mapas Autoorganizados (SOM) para Visualización y Clustering del Dataset Breast Cancer Wisconsin\n",
    "\n",
    "**Disciplina:** Aprendizaje No Supervisado, Redes Neuronales, Mapas Autoorganizados de Kohonen, Visualización de Datos, Clustering\n",
    "\n",
    "**Objetivo:**\n",
    "El objetivo de este notebook es implementar un Mapa Autoorganizado (SOM) para analizar el dataset `Breast Cancer Wisconsin (Diagnostic)`. Las SOMs se utilizarán para producir una representación de baja dimensión (mapa 2D) de estos datos tabulares (30 características), con la intención de visualizar la estructura inherente, identificar posibles clusters de muestras (malignas vs. benignas) y ver cómo los diferentes tipos de diagnóstico se mapean en la SOM. Se utilizará la biblioteca `MiniSom`."
   ]
  },
  {
   "cell_type": "markdown",
   "id": "61cbe037",
   "metadata": {},
   "source": [
    "## 1. Carga de Librerías y Configuración Inicial\n",
    "\n",
    "**Propósito de esta sección:**\n",
    "Importar todas las bibliotecas necesarias y configurar el entorno para el análisis.\n",
    "\n",
    "**Bibliotecas Clave:**\n",
    "* **`numpy`, `pandas`**: Para manipulación de datos.\n",
    "* **`matplotlib.pyplot`, `seaborn`**: Para visualizaciones.\n",
    "* **`sklearn.datasets`**: Para cargar el dataset `Breast Cancer Wisconsin`.\n",
    "* **`sklearn.preprocessing`**: Para `StandardScaler`.\n",
    "* **`minisom`**: La biblioteca para implementar el SOM.\n",
    "\n",
    "**Nota de Dependencia:**\n",
    "Este ejemplo requiere la biblioteca `MiniSom`. Puedes instalarla usando pip:\n",
    "`pip install MiniSom`"
   ]
  },
  {
   "cell_type": "code",
   "execution_count": null,
   "id": "6e6bd0c5",
   "metadata": {},
   "outputs": [],
   "source": [
    "# Comandos mágicos de IPython (opcional en scripts)\n",
    "%load_ext autoreload\n",
    "%autoreload 2\n",
    "%matplotlib inline"
   ]
  },
  {
   "cell_type": "code",
   "execution_count": null,
   "id": "dd3e9f7a",
   "metadata": {
    "lines_to_next_cell": 1
   },
   "outputs": [],
   "source": [
    "# Importación de bibliotecas\n",
    "import numpy as np\n",
    "import pandas as pd\n",
    "import matplotlib.pyplot as plt\n",
    "import seaborn as sns\n",
    "from collections import defaultdict # Importar defaultdict\n",
    "\n",
    "from sklearn.datasets import load_breast_cancer # Cambiado\n",
    "from sklearn.preprocessing import StandardScaler\n",
    "\n",
    "# Importar MiniSom (asegúrate de que esté instalado)\n",
    "MINISOM_IMPORTED_SUCCESSFULLY = False\n",
    "try:\n",
    "    from minisom import MiniSom\n",
    "    print(f\"Biblioteca 'MiniSom' importada correctamente.\")\n",
    "    MINISOM_IMPORTED_SUCCESSFULLY = True\n",
    "except ImportError as e:\n",
    "    print(f\"Error al importar 'MiniSom': {e}\")\n",
    "    print(\"Por favor, instálala con 'pip install MiniSom'\")\n",
    "    print(\"El script continuará, pero las secciones de SOM probablemente fallarán.\")\n",
    "\n",
    "# Configuración para reproducibilidad\n",
    "SEED = 42\n",
    "np.random.seed(SEED) \n",
    "\n",
    "# Configuración de estilo y visualización\n",
    "sns.set(style=\"whitegrid\")\n",
    "plt.rcParams['figure.figsize'] = [10, 8] \n",
    "plt.rcParams['figure.dpi'] = 100\n",
    "plt.rcParams['font.size'] = 10"
   ]
  },
  {
   "cell_type": "markdown",
   "id": "59483a3b",
   "metadata": {},
   "source": [
    "## 2. Funciones Personalizadas"
   ]
  },
  {
   "cell_type": "markdown",
   "id": "e93af15a",
   "metadata": {},
   "source": [
    "### Descripción de la Función: `cargar_y_preparar_datos_cancer_som`\n",
    "\n",
    "**Objetivo Principal:**\n",
    "Cargar el dataset `Breast Cancer Wisconsin` y preprocesarlo para su uso con SOMs, escalando las características.\n",
    "\n",
    "**Características:**\n",
    "* **Procesamiento:**\n",
    "    1. Carga el dataset `Breast Cancer`.\n",
    "    2. Separa características (X) y objetivo (y).\n",
    "    3. Escala las características X usando `StandardScaler`.\n",
    "* **Valor de Retorno:**\n",
    "    * `X_scaled_np`: Características escaladas.\n",
    "    * `y_np`: Etiquetas originales (0 para maligno, 1 para benigno).\n",
    "    * `scaler`: El objeto `StandardScaler` ajustado.\n",
    "    * `feature_names`, `target_names` (lista de strings 'malignant', 'benign')."
   ]
  },
  {
   "cell_type": "code",
   "execution_count": null,
   "id": "4f90113c",
   "metadata": {
    "lines_to_next_cell": 1
   },
   "outputs": [],
   "source": [
    "def cargar_y_preparar_datos_cancer_som():\n",
    "    \"\"\"\n",
    "    Carga y preprocesa el dataset Breast Cancer Wisconsin para SOM.\n",
    "    \"\"\"\n",
    "    print(\"Cargando y preparando el dataset Breast Cancer Wisconsin para SOM...\")\n",
    "    cancer = load_breast_cancer()\n",
    "    X_np = cancer.data # (569, 30)\n",
    "    y_np = cancer.target # 0: malignant, 1: benign\n",
    "    feature_names = cancer.feature_names\n",
    "    target_names = list(cancer.target_names) # ['malignant', 'benign']\n",
    "\n",
    "    # Crear DataFrame para exploración\n",
    "    df = pd.DataFrame(X_np, columns=feature_names)\n",
    "    df['diagnosis_code'] = y_np\n",
    "    df['diagnosis_name'] = df['diagnosis_code'].map({i: name for i, name in enumerate(target_names)})\n",
    "    print(\"\\nPrimeras filas del dataset Breast Cancer:\")\n",
    "    print(df.head(3))\n",
    "    print(f\"\\nNúmero de características: {X_np.shape[1]}\")\n",
    "    print(f\"\\nDistribución de clases: \\n{df['diagnosis_name'].value_counts(normalize=True)}\")\n",
    "\n",
    "\n",
    "    # Escalar características es crucial para SOMs\n",
    "    scaler = StandardScaler()\n",
    "    X_scaled_np = scaler.fit_transform(X_np)\n",
    "    \n",
    "    print(f\"\\nDimensiones de datos escalados: X_scaled_np: {X_scaled_np.shape}\")\n",
    "    return X_scaled_np, y_np, scaler, feature_names, target_names"
   ]
  },
  {
   "cell_type": "markdown",
   "id": "521fc7df",
   "metadata": {
    "lines_to_next_cell": 0
   },
   "source": [
    "### Descripción de la Función: `inicializar_y_entrenar_som`\n",
    "(Sin cambios respecto a la versión anterior, es genérica)"
   ]
  },
  {
   "cell_type": "code",
   "execution_count": null,
   "id": "32edbfe6",
   "metadata": {
    "lines_to_next_cell": 1
   },
   "outputs": [],
   "source": [
    "def inicializar_y_entrenar_som(data, map_x_dim, map_y_dim, input_len, \n",
    "                               sigma=1.0, learning_rate=0.5, \n",
    "                               num_iterations=10000, random_seed=SEED):\n",
    "    if not MINISOM_IMPORTED_SUCCESSFULLY:\n",
    "        print(\"MiniSom no importado. No se puede inicializar ni entrenar la SOM.\")\n",
    "        return None\n",
    "    print(f\"\\nInicializando SOM de {map_x_dim}x{map_y_dim} neuronas...\")\n",
    "    som = MiniSom(x=map_x_dim, y=map_y_dim, input_len=input_len,\n",
    "                  sigma=sigma, learning_rate=learning_rate,\n",
    "                  neighborhood_function='gaussian', \n",
    "                  random_seed=random_seed)\n",
    "    print(\"Inicializando pesos de la SOM con PCA...\")\n",
    "    som.pca_weights_init(data) \n",
    "    print(f\"Entrenando SOM por {num_iterations} iteraciones...\")\n",
    "    som.train_random(data, num_iterations, verbose=True) \n",
    "    print(\"Entrenamiento de SOM completado.\")\n",
    "    return som"
   ]
  },
  {
   "cell_type": "markdown",
   "id": "1e680ca2",
   "metadata": {
    "lines_to_next_cell": 0
   },
   "source": [
    "### Descripción de la Función: `visualizar_mapa_distancias_som` (U-Matrix)\n",
    "(Sin cambios)"
   ]
  },
  {
   "cell_type": "code",
   "execution_count": null,
   "id": "ae8b15f4",
   "metadata": {
    "lines_to_next_cell": 1
   },
   "outputs": [],
   "source": [
    "def visualizar_mapa_distancias_som(som_model):\n",
    "    if not MINISOM_IMPORTED_SUCCESSFULLY or som_model is None: return\n",
    "    print(\"\\nVisualizando Mapa de Distancias (U-Matrix)...\")\n",
    "    map_x_dim = som_model.get_weights().shape[0]\n",
    "    map_y_dim = som_model.get_weights().shape[1]\n",
    "    plt.figure(figsize=(map_y_dim, map_x_dim)) # Ajustar tamaño\n",
    "    plt.pcolor(som_model.distance_map().T, cmap='bone_r') \n",
    "    plt.colorbar(label='Distancia Promedio a Vecinos')\n",
    "    plt.title('Mapa de Distancias Unificadas (U-Matrix)')\n",
    "    plt.xticks(np.arange(map_x_dim) + 0.5, np.arange(map_x_dim))\n",
    "    plt.yticks(np.arange(map_y_dim) + 0.5, np.arange(map_y_dim))\n",
    "    plt.gca().invert_yaxis()\n",
    "    plt.show()"
   ]
  },
  {
   "cell_type": "markdown",
   "id": "63af79b4",
   "metadata": {
    "lines_to_next_cell": 0
   },
   "source": [
    "### Descripción de la Función: `visualizar_mapa_activaciones_som`\n",
    "(Sin cambios)"
   ]
  },
  {
   "cell_type": "code",
   "execution_count": null,
   "id": "782fdd0b",
   "metadata": {
    "lines_to_next_cell": 1
   },
   "outputs": [],
   "source": [
    "def visualizar_mapa_activaciones_som(som_model, data):\n",
    "    if not MINISOM_IMPORTED_SUCCESSFULLY or som_model is None: return\n",
    "    print(\"\\nVisualizando Mapa de Activaciones (Frecuencia de BMU)...\")\n",
    "    map_x_dim = som_model.get_weights().shape[0]\n",
    "    map_y_dim = som_model.get_weights().shape[1]\n",
    "    activation_map = np.zeros((map_x_dim, map_y_dim))\n",
    "    for x_sample in data:\n",
    "        w = som_model.winner(x_sample)\n",
    "        activation_map[w[0], w[1]] += 1\n",
    "    plt.figure(figsize=(map_y_dim, map_x_dim)) # Ajustar tamaño\n",
    "    plt.pcolor(activation_map.T, cmap='viridis') \n",
    "    plt.colorbar(label='Frecuencia de Activación (BMU)')\n",
    "    plt.title('Mapa de Activaciones (Frecuencia de BMU)')\n",
    "    plt.xticks(np.arange(map_x_dim) + 0.5, np.arange(map_x_dim))\n",
    "    plt.yticks(np.arange(map_y_dim) + 0.5, np.arange(map_y_dim))\n",
    "    plt.gca().invert_yaxis()\n",
    "    plt.show()"
   ]
  },
  {
   "cell_type": "markdown",
   "id": "a1b1a984",
   "metadata": {
    "lines_to_next_cell": 0
   },
   "source": [
    "### Descripción de la Función: `visualizar_mapa_som_con_etiquetas`\n",
    "(Adaptada para etiquetas binarias y mejor visualización)"
   ]
  },
  {
   "cell_type": "code",
   "execution_count": null,
   "id": "1642ff89",
   "metadata": {
    "lines_to_next_cell": 1
   },
   "outputs": [],
   "source": [
    "def visualizar_mapa_som_con_etiquetas(som_model, data, labels_np, target_names_list):\n",
    "    if not MINISOM_IMPORTED_SUCCESSFULLY or som_model is None:\n",
    "        print(\"MiniSom no disponible o modelo no entrenado. No se puede visualizar con etiquetas.\")\n",
    "        return\n",
    "\n",
    "    print(\"\\nVisualizando Mapa SOM con Etiquetas de Clase (Diagnóstico)...\")\n",
    "    \n",
    "    map_x_dim = som_model.get_weights().shape[0]\n",
    "    map_y_dim = som_model.get_weights().shape[1]\n",
    "\n",
    "    plt.figure(figsize=(map_y_dim + 2, map_x_dim)) # Ajustar tamaño para leyenda\n",
    "    \n",
    "    # Fondo con U-Matrix\n",
    "    plt.pcolor(som_model.distance_map().T, cmap='bone_r', alpha=0.6)\n",
    "    \n",
    "    # Colores y marcadores para las clases (maligno, benigno)\n",
    "    # target_names_list[0] es 'malignant' (label 0), target_names_list[1] es 'benign' (label 1)\n",
    "    colors = {0: '#FF5733', 1: '#33C4FF'} # Rojo para maligno, Azul para benigno\n",
    "    markers = {0: 'x', 1: 'o'}\n",
    "    \n",
    "    # Mapear cada muestra a su BMU y colocar un marcador\n",
    "    for i, sample in enumerate(data):\n",
    "        bmu_coord = som_model.winner(sample) # (x_col, y_row)\n",
    "        label_class = labels_np[i]\n",
    "        \n",
    "        # Añadir un pequeño jitter para que los puntos no se superpongan exactamente\n",
    "        jitter_x = (np.random.rand() - 0.5) * 0.4\n",
    "        jitter_y = (np.random.rand() - 0.5) * 0.4\n",
    "        \n",
    "        plt.plot(bmu_coord[0] + 0.5 + jitter_x, \n",
    "                 bmu_coord[1] + 0.5 + jitter_y,\n",
    "                 markers[label_class],\n",
    "                 markerfacecolor='None', # Solo borde del marcador\n",
    "                 markeredgecolor=colors[label_class],\n",
    "                 markersize=10, \n",
    "                 markeredgewidth=1.5,\n",
    "                 alpha=0.7)\n",
    "\n",
    "    plt.title('Mapa SOM con Diagnóstico Superpuesto')\n",
    "    plt.xticks(np.arange(map_x_dim) + 0.5, np.arange(map_x_dim))\n",
    "    plt.yticks(np.arange(map_y_dim) + 0.5, np.arange(map_y_dim))\n",
    "    plt.grid(True, which='major', linestyle='--', linewidth=0.5, color='gray')\n",
    "    plt.gca().invert_yaxis()\n",
    "    \n",
    "    # Crear leyenda manualmente\n",
    "    handles = [plt.Line2D([0], [0], marker=markers[i], color='w', \n",
    "                          markerfacecolor='None', markeredgecolor=colors[i], \n",
    "                          markersize=10, markeredgewidth=1.5) for i in range(len(target_names_list))]\n",
    "    plt.legend(handles, target_names_list, title='Diagnóstico', bbox_to_anchor=(1.02, 1), loc='upper left')\n",
    "    plt.tight_layout(rect=[0, 0, 0.85, 1]) # Ajustar para leyenda\n",
    "    plt.show()"
   ]
  },
  {
   "cell_type": "markdown",
   "id": "98f96342",
   "metadata": {
    "lines_to_next_cell": 0
   },
   "source": [
    "### Descripción de la Función: `visualizar_mapa_componentes_som`\n",
    "(Adaptada para manejar 30 planos de componentes)"
   ]
  },
  {
   "cell_type": "code",
   "execution_count": null,
   "id": "c85a20da",
   "metadata": {},
   "outputs": [],
   "source": [
    "def visualizar_mapa_componentes_som(som_model, feature_names_list, max_planes_to_show=None):\n",
    "    if not MINISOM_IMPORTED_SUCCESSFULLY or som_model is None:\n",
    "        print(\"MiniSom no disponible o modelo no entrenado. No se puede visualizar los planos de componentes.\")\n",
    "        return\n",
    "\n",
    "    print(\"\\nVisualizando Planos de Componentes SOM...\")\n",
    "    weights = som_model.get_weights() \n",
    "    num_features = weights.shape[2]\n",
    "    map_x_dim = weights.shape[0]\n",
    "    map_y_dim = weights.shape[1]\n",
    "\n",
    "    if feature_names_list is None or len(feature_names_list) != num_features:\n",
    "        feature_names_list = [f'Feature {i+1}' for i in range(num_features)]\n",
    "\n",
    "    num_planes_actual = num_features\n",
    "    if max_planes_to_show is not None and num_features > max_planes_to_show:\n",
    "        num_planes_actual = max_planes_to_show\n",
    "        print(f\"Mostrando los primeros {max_planes_to_show} de {num_features} planos de componentes.\")\n",
    "    \n",
    "    cols = 5 # Ajustar número de columnas para 30 características\n",
    "    rows = (num_planes_actual + cols - 1) // cols \n",
    "    \n",
    "    fig, axes = plt.subplots(rows, cols, figsize=(cols * 3.5, rows * 3)) # Ajustar tamaño\n",
    "    axes = axes.flatten() \n",
    "\n",
    "    for i in range(num_planes_actual):\n",
    "        ax = axes[i]\n",
    "        component_plane = weights[:, :, i]\n",
    "        im = ax.pcolor(component_plane.T, cmap='viridis') \n",
    "        ax.set_title(f\"{feature_names_list[i]}\", fontsize=8)\n",
    "        ax.set_xticks([])\n",
    "        ax.set_yticks([])\n",
    "        fig.colorbar(im, ax=ax, label='Peso')\n",
    "\n",
    "    for j in range(num_planes_actual, len(axes)):\n",
    "        fig.delaxes(axes[j])\n",
    "        \n",
    "    plt.suptitle(f\"Planos de Componentes SOM (Primeros {num_planes_actual} de {num_features})\", fontsize=14)\n",
    "    plt.tight_layout(rect=[0, 0, 1, 0.95]) \n",
    "    plt.show()"
   ]
  },
  {
   "cell_type": "markdown",
   "id": "75c46a41",
   "metadata": {},
   "source": [
    "## 3. Desarrollo del Ejercicio: SOM con Dataset Breast Cancer"
   ]
  },
  {
   "cell_type": "markdown",
   "id": "97ea4f76",
   "metadata": {},
   "source": [
    "### 3.1. Carga y Preparación de Datos\n",
    "\n",
    "Cargamos el dataset `Breast Cancer Wisconsin` y escalamos sus 30 características."
   ]
  },
  {
   "cell_type": "code",
   "execution_count": null,
   "id": "c6b165a8",
   "metadata": {},
   "outputs": [],
   "source": [
    "X_cancer_scaled, y_cancer_original, scaler_cancer, cancer_feature_names, cancer_target_names = \\\n",
    "    cargar_y_preparar_datos_cancer_som()"
   ]
  },
  {
   "cell_type": "markdown",
   "id": "ed491142",
   "metadata": {},
   "source": [
    "### 3.2. Inicialización y Entrenamiento de la SOM\n",
    "\n",
    "Para el dataset Breast Cancer (569 muestras, 30 características).\n",
    "Heurística: `5 * sqrt(569) approx 5 * 23.8 = 119 neuronas`. Un mapa de 10x12 o 11x11."
   ]
  },
  {
   "cell_type": "code",
   "execution_count": null,
   "id": "9fc9d2e5",
   "metadata": {},
   "outputs": [],
   "source": [
    "som_model_cancer = None\n",
    "if MINISOM_IMPORTED_SUCCESSFULLY:\n",
    "    N_SAMPLES_CANCER = X_cancer_scaled.shape[0]\n",
    "    num_neurons_heuristic_cancer = int(5 * np.sqrt(N_SAMPLES_CANCER))\n",
    "    MAP_X_DIM_CANCER = int(np.sqrt(num_neurons_heuristic_cancer))\n",
    "    MAP_Y_DIM_CANCER = (num_neurons_heuristic_cancer // MAP_X_DIM_CANCER) + ((num_neurons_heuristic_cancer % MAP_X_DIM_CANCER) > 0)\n",
    "    \n",
    "    print(f\"Heurística para tamaño de SOM (Cancer): ~{num_neurons_heuristic_cancer} neuronas. Usando mapa de {MAP_X_DIM_CANCER}x{MAP_Y_DIM_CANCER}.\")\n",
    "    # Podrías fijar un tamaño si prefieres, ej: MAP_X_DIM_CANCER = 10; MAP_Y_DIM_CANCER = 12\n",
    "\n",
    "    INPUT_LEN_CANCER = X_cancer_scaled.shape[1] # 30 características\n",
    "    \n",
    "    SIGMA_INIT_CANCER = 1.8 \n",
    "    LEARNING_RATE_INIT_CANCER = 0.5\n",
    "    NUM_ITERATIONS_SOM_CANCER = 20000 # Más iteraciones para datos más complejos\n",
    "\n",
    "    som_model_cancer = inicializar_y_entrenar_som(\n",
    "        X_cancer_scaled, MAP_X_DIM_CANCER, MAP_Y_DIM_CANCER, INPUT_LEN_CANCER,\n",
    "        sigma=SIGMA_INIT_CANCER, learning_rate=LEARNING_RATE_INIT_CANCER,\n",
    "        num_iterations=NUM_ITERATIONS_SOM_CANCER, random_seed=SEED\n",
    "    )\n",
    "else:\n",
    "    print(\"Saltando inicialización y entrenamiento de SOM porque MiniSom no se importó.\")"
   ]
  },
  {
   "cell_type": "markdown",
   "id": "92300218",
   "metadata": {},
   "source": [
    "### 3.3. Visualización de Resultados de la SOM"
   ]
  },
  {
   "cell_type": "markdown",
   "id": "c791d635",
   "metadata": {},
   "source": [
    "#### 3.3.1. Mapa de Distancias (U-Matrix)\n",
    "La U-Matrix para el dataset de cáncer."
   ]
  },
  {
   "cell_type": "code",
   "execution_count": null,
   "id": "cc5686cf",
   "metadata": {},
   "outputs": [],
   "source": [
    "if som_model_cancer:\n",
    "    visualizar_mapa_distancias_som(som_model_cancer)"
   ]
  },
  {
   "cell_type": "markdown",
   "id": "ee6b452f",
   "metadata": {},
   "source": [
    "#### 3.3.2. Mapa de Activaciones\n",
    "Frecuencia de activación de neuronas para las muestras de cáncer."
   ]
  },
  {
   "cell_type": "code",
   "execution_count": null,
   "id": "c3fdca4f",
   "metadata": {},
   "outputs": [],
   "source": [
    "if som_model_cancer:\n",
    "    visualizar_mapa_activaciones_som(som_model_cancer, X_cancer_scaled)"
   ]
  },
  {
   "cell_type": "markdown",
   "id": "539d4e3d",
   "metadata": {},
   "source": [
    "#### 3.3.3. Mapa SOM con Etiquetas de Diagnóstico\n",
    "Superponemos las etiquetas 'malignant' y 'benign' en el mapa."
   ]
  },
  {
   "cell_type": "code",
   "execution_count": null,
   "id": "0ff57e48",
   "metadata": {},
   "outputs": [],
   "source": [
    "if som_model_cancer:\n",
    "    visualizar_mapa_som_con_etiquetas(som_model_cancer, X_cancer_scaled, y_cancer_original, cancer_target_names)"
   ]
  },
  {
   "cell_type": "markdown",
   "id": "cf5dbf50",
   "metadata": {},
   "source": [
    "#### 3.3.4. Planos de Componentes\n",
    "Visualizamos los planos de las 30 características."
   ]
  },
  {
   "cell_type": "code",
   "execution_count": null,
   "id": "5c8abb2f",
   "metadata": {
    "lines_to_next_cell": 2
   },
   "outputs": [],
   "source": [
    "if som_model_cancer:\n",
    "    visualizar_mapa_componentes_som(som_model_cancer, cancer_feature_names, max_planes_to_show=30) # Mostrar todos"
   ]
  },
  {
   "cell_type": "markdown",
   "id": "1b78a4e6",
   "metadata": {},
   "source": [
    "## 4. Conclusiones del Ejercicio (SOM con Breast Cancer)\n",
    "\n",
    "**Resumen de Hallazgos:**\n",
    "* Se cargó y preprocesó el dataset `Breast Cancer Wisconsin`, escalando sus 30 características.\n",
    "* Se entrenó un Mapa Autoorganizado (SOM) de **[MAP_X_DIM_CANCER x MAP_Y_DIM_CANCER]** neuronas por **[NUM_ITERATIONS_SOM_CANCER]** iteraciones.\n",
    "* **Mapa de Distancias (U-Matrix):** La U-Matrix mostró **[Describir: ej., si se observan una o dos regiones principales claras separadas por bordes, o una estructura más gradual. ¿Sugiere dos clusters principales?]**.\n",
    "* **Mapa de Activaciones:** Este mapa indicó **[Describir la distribución de activaciones]**.\n",
    "* **Mapa SOM con Etiquetas de Diagnóstico:** Al superponer las etiquetas 'malignant' y 'benign', se observó que **[Describir: ej., las muestras malignas y benignas tendieron a agruparse en regiones predominantemente distintas del mapa SOM. ¿Qué tan clara fue la separación? ¿Hubo una zona de transición o mezcla?]**.\n",
    "* **Planos de Componentes:** El análisis de los 30 planos de componentes reveló que **[Describir hallazgos clave. ¿Qué características (ej: 'mean radius', 'worst concave points') mostraron patrones claros o gradientes a través del mapa que se correlacionan con las regiones de maligno/benigno? ¿Hubo características que parecían uniformes y por lo tanto menos discriminativas en el mapa SOM?]**.\n",
    "\n",
    "**Sobre las SOMs con Datos Tabulares como Breast Cancer:**\n",
    "* Las SOMs pueden ayudar a visualizar la estructura de separación (o falta de ella) entre clases en un espacio de características de alta dimensión.\n",
    "* La U-Matrix y el mapa de etiquetas combinados pueden dar una fuerte indicación de la \"dificultad\" de separar las clases.\n",
    "* Los planos de componentes pueden ofrecer insights sobre qué características son más importantes para la organización topológica del mapa y, por ende, para la distinción entre los grupos que la SOM identifica.\n",
    "\n",
    "**Aprendizaje General:**\n",
    "Este ejercicio demostró el uso de SOMs para la exploración no supervisada del dataset Breast Cancer. Incluso sin conocer las etiquetas de diagnóstico durante el entrenamiento, la SOM fue capaz de organizar los datos en un mapa 2D de tal manera que las clases subyacentes a menudo forman regiones cohesivas. Esto subraya la utilidad de las SOMs para la visualización de datos, la detección de estructuras y la potencial identificación de características relevantes en datasets tabulares complejos.\n",
    "\n",
    "*(Nota: Las descripciones cualitativas y los hallazgos específicos en los corchetes deben completarse después de ejecutar completamente el notebook y analizar los gráficos generados.)*"
   ]
  }
 ],
 "metadata": {
  "jupytext": {
   "cell_metadata_filter": "-all",
   "main_language": "python",
   "notebook_metadata_filter": "-all"
  }
 },
 "nbformat": 4,
 "nbformat_minor": 5
}
